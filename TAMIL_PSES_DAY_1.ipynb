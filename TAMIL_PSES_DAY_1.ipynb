{
  "nbformat": 4,
  "nbformat_minor": 0,
  "metadata": {
    "colab": {
      "provenance": [],
      "include_colab_link": true
    },
    "kernelspec": {
      "name": "python3",
      "display_name": "Python 3"
    },
    "language_info": {
      "name": "python"
    }
  },
  "cells": [
    {
      "cell_type": "markdown",
      "metadata": {
        "id": "view-in-github",
        "colab_type": "text"
      },
      "source": [
        "<a href=\"https://colab.research.google.com/github/abulhassan-m/sassBuilder/blob/main/TAMIL_PSES_DAY_1.ipynb\" target=\"_parent\"><img src=\"https://colab.research.google.com/assets/colab-badge.svg\" alt=\"Open In Colab\"/></a>"
      ]
    },
    {
      "cell_type": "code",
      "execution_count": null,
      "metadata": {
        "colab": {
          "base_uri": "https://localhost:8080/"
        },
        "id": "DoQqNSHOa1tz",
        "outputId": "8c5258f6-bca5-4e91-a1f2-3dc1dd90b082"
      },
      "outputs": [
        {
          "output_type": "stream",
          "name": "stdout",
          "text": [
            "hello world\n"
          ]
        }
      ],
      "source": [
        "print(\"hello world\")# this is a hello world program"
      ]
    },
    {
      "cell_type": "code",
      "source": [
        "print(\"hello world\")"
      ],
      "metadata": {
        "colab": {
          "base_uri": "https://localhost:8080/"
        },
        "id": "XCnWV1h-clrW",
        "outputId": "c2aea64e-83e6-4df1-8440-c8e738fb1c0d"
      },
      "execution_count": null,
      "outputs": [
        {
          "output_type": "stream",
          "name": "stdout",
          "text": [
            "hello world\n"
          ]
        }
      ]
    },
    {
      "cell_type": "code",
      "source": [
        "# commenting in python"
      ],
      "metadata": {
        "id": "KmDvAGfOcmJd"
      },
      "execution_count": null,
      "outputs": []
    },
    {
      "cell_type": "code",
      "source": [
        "# this is a hello world program\n",
        "print(\"hello world\")"
      ],
      "metadata": {
        "colab": {
          "base_uri": "https://localhost:8080/"
        },
        "id": "4NDwxENocmYh",
        "outputId": "14178343-180f-4b00-b456-7057811da4db"
      },
      "execution_count": null,
      "outputs": [
        {
          "output_type": "stream",
          "name": "stdout",
          "text": [
            "hello world\n"
          ]
        }
      ]
    },
    {
      "cell_type": "markdown",
      "source": [
        "# python pses - day 1 topics"
      ],
      "metadata": {
        "id": "zqa5WmICeIH7"
      }
    },
    {
      "cell_type": "code",
      "source": [
        "# variables -- it is a container to store a values , we can use the container whenever we needed\n",
        "# while assingning a variable name space should not be used\n",
        "# can use underscore(_)\n",
        "# should not starts with numbers\n",
        "# python keywords should not be used as a variables\n",
        "#variables is case sensitive"
      ],
      "metadata": {
        "id": "2iJXdtQBeB7Q"
      },
      "execution_count": null,
      "outputs": []
    },
    {
      "cell_type": "code",
      "source": [
        "a = 50"
      ],
      "metadata": {
        "id": "FcLFw1z8cmn_"
      },
      "execution_count": null,
      "outputs": []
    },
    {
      "cell_type": "code",
      "source": [
        "print(a)"
      ],
      "metadata": {
        "colab": {
          "base_uri": "https://localhost:8080/"
        },
        "id": "5wFGxrhlcm4L",
        "outputId": "c1107c04-87e1-44ef-affd-695dae7406df"
      },
      "execution_count": null,
      "outputs": [
        {
          "output_type": "stream",
          "name": "stdout",
          "text": [
            "50\n"
          ]
        }
      ]
    },
    {
      "cell_type": "code",
      "source": [
        "2max_number = 1000"
      ],
      "metadata": {
        "colab": {
          "base_uri": "https://localhost:8080/",
          "height": 109
        },
        "id": "LgnfbmZAcnNS",
        "outputId": "892be476-c8a1-4f2a-b32a-d7f5116e3256"
      },
      "execution_count": null,
      "outputs": [
        {
          "output_type": "error",
          "ename": "SyntaxError",
          "evalue": "invalid decimal literal (<ipython-input-15-6c3bdf090df2>, line 1)",
          "traceback": [
            "\u001b[0;36m  File \u001b[0;32m\"<ipython-input-15-6c3bdf090df2>\"\u001b[0;36m, line \u001b[0;32m1\u001b[0m\n\u001b[0;31m    2max_number = 1000\u001b[0m\n\u001b[0m    ^\u001b[0m\n\u001b[0;31mSyntaxError\u001b[0m\u001b[0;31m:\u001b[0m invalid decimal literal\n"
          ]
        }
      ]
    },
    {
      "cell_type": "code",
      "source": [
        "a = 50\n",
        "b = 100"
      ],
      "metadata": {
        "id": "kH-hWxS9hK8g"
      },
      "execution_count": null,
      "outputs": []
    },
    {
      "cell_type": "code",
      "source": [
        "print(a,b)"
      ],
      "metadata": {
        "colab": {
          "base_uri": "https://localhost:8080/"
        },
        "id": "2q8G_Ag3hibK",
        "outputId": "7b215733-eff7-41f4-8dca-91031e52caa4"
      },
      "execution_count": null,
      "outputs": [
        {
          "output_type": "stream",
          "name": "stdout",
          "text": [
            "500 200\n"
          ]
        }
      ]
    },
    {
      "cell_type": "code",
      "source": [
        "b = 200\n",
        "a = 500"
      ],
      "metadata": {
        "id": "7DQ79m2uhlti"
      },
      "execution_count": null,
      "outputs": []
    },
    {
      "cell_type": "code",
      "source": [
        "print(A,B)"
      ],
      "metadata": {
        "colab": {
          "base_uri": "https://localhost:8080/"
        },
        "id": "roVFY5BgiXCe",
        "outputId": "f7af148d-4c96-4d07-a43d-8fd678151472"
      },
      "execution_count": null,
      "outputs": [
        {
          "output_type": "stream",
          "name": "stdout",
          "text": [
            "10000 4000\n"
          ]
        }
      ]
    },
    {
      "cell_type": "code",
      "source": [
        "A = 10000\n",
        "B = 4000"
      ],
      "metadata": {
        "id": "c1o_M3_1i1K9"
      },
      "execution_count": null,
      "outputs": []
    },
    {
      "cell_type": "code",
      "source": [
        "# DATA TYPES\n",
        "# PERSON\n",
        "# ALPHABETS - NAME\n",
        "# NUMERIC - MOB\n",
        "# ALPHANUMERIC - PAN\n",
        "# ALPHANUM WITH SPECIAL CHAR - MAILID , PW\n",
        "# NUMERIC WITH SPECIAL CHAR - IP ADD ,"
      ],
      "metadata": {
        "id": "Ndjt7ULnjNiL"
      },
      "execution_count": null,
      "outputs": []
    },
    {
      "cell_type": "code",
      "source": [
        "# INTEGERS , FLOAT,STRING ,BOOL,COMPLEX, TIME"
      ],
      "metadata": {
        "id": "D3XgHURNkbkd"
      },
      "execution_count": null,
      "outputs": []
    },
    {
      "cell_type": "code",
      "source": [
        "# INTEGERS\n",
        "# WHOLE NUMBER\n",
        "# NON DECIMEL NUMBERS\n",
        "# IT CAN BE OF BOTH POS AND NEG"
      ],
      "metadata": {
        "id": "BLEXJ_yvkl1C"
      },
      "execution_count": null,
      "outputs": []
    },
    {
      "cell_type": "code",
      "source": [
        "I = -60"
      ],
      "metadata": {
        "id": "5vOFi-0hk9Ed"
      },
      "execution_count": null,
      "outputs": []
    },
    {
      "cell_type": "code",
      "source": [
        "type(I)"
      ],
      "metadata": {
        "colab": {
          "base_uri": "https://localhost:8080/"
        },
        "id": "ePougWEJlCyY",
        "outputId": "3706c739-7d0d-4081-826b-27c1c136b213"
      },
      "execution_count": null,
      "outputs": [
        {
          "output_type": "execute_result",
          "data": {
            "text/plain": [
              "int"
            ]
          },
          "metadata": {},
          "execution_count": 31
        }
      ]
    },
    {
      "cell_type": "code",
      "source": [
        "print(I)"
      ],
      "metadata": {
        "colab": {
          "base_uri": "https://localhost:8080/"
        },
        "id": "QJ2iBM3OlP0B",
        "outputId": "ea4b73af-8c9a-4ed3-cb5e-a49aca5bc297"
      },
      "execution_count": null,
      "outputs": [
        {
          "output_type": "stream",
          "name": "stdout",
          "text": [
            "-60\n"
          ]
        }
      ]
    },
    {
      "cell_type": "code",
      "source": [
        "# REAL EXAMPLES - INT\n",
        "# MOB\n",
        "#PINCODE\n",
        "#ACC.NO\n",
        "#AGE\n",
        "#AADHAR\n",
        "#ATMPIN"
      ],
      "metadata": {
        "id": "zr8uwbPBlVwD"
      },
      "execution_count": null,
      "outputs": []
    },
    {
      "cell_type": "code",
      "source": [
        "# FLOAT\n",
        "# IT INCLUDES DECIMEL VALUES\n",
        "# IT CAN BE OF BOTH POS AND NEG"
      ],
      "metadata": {
        "id": "dHZGkghllntf"
      },
      "execution_count": null,
      "outputs": []
    },
    {
      "cell_type": "code",
      "source": [
        "F = -3.14"
      ],
      "metadata": {
        "id": "l3E4zIV0l9nl"
      },
      "execution_count": null,
      "outputs": []
    },
    {
      "cell_type": "code",
      "source": [
        "type(F)"
      ],
      "metadata": {
        "colab": {
          "base_uri": "https://localhost:8080/"
        },
        "id": "UhkCU-qtmBer",
        "outputId": "f4bd9ab6-9dac-4c90-8c13-c6410e2ebe16"
      },
      "execution_count": null,
      "outputs": [
        {
          "output_type": "execute_result",
          "data": {
            "text/plain": [
              "float"
            ]
          },
          "metadata": {},
          "execution_count": 36
        }
      ]
    },
    {
      "cell_type": "code",
      "source": [
        "print(F)"
      ],
      "metadata": {
        "colab": {
          "base_uri": "https://localhost:8080/"
        },
        "id": "7lixVQRGmMnK",
        "outputId": "a25b8a81-53bf-4c45-e1d6-77a2200a83ff"
      },
      "execution_count": null,
      "outputs": [
        {
          "output_type": "stream",
          "name": "stdout",
          "text": [
            "-3.14\n"
          ]
        }
      ]
    },
    {
      "cell_type": "code",
      "source": [
        "#REAL EXAMPLES - FLOAT\n",
        "# TEMP\n",
        "# MARKS\n",
        "# QTY\n",
        "#WEIGHT\n",
        "# HEIGHT\n",
        "# LTS\n",
        "# SPEED\n",
        "# DISTANCE\n",
        "# ACCOUNT BALANCE\n",
        "# PRICE\n",
        "# AREA\n",
        "# ALL ARE MEASURABLE ITEMS"
      ],
      "metadata": {
        "id": "ucVZ-ssUmVoD"
      },
      "execution_count": null,
      "outputs": []
    },
    {
      "cell_type": "code",
      "source": [
        "# STRING\n",
        "# COLLECTION OF CHAR"
      ],
      "metadata": {
        "id": "un0VH0C5oE58"
      },
      "execution_count": null,
      "outputs": []
    },
    {
      "cell_type": "code",
      "source": [
        "S = \"50\""
      ],
      "metadata": {
        "id": "5No-xkmLoPMn"
      },
      "execution_count": null,
      "outputs": []
    },
    {
      "cell_type": "code",
      "source": [
        "type(S)"
      ],
      "metadata": {
        "colab": {
          "base_uri": "https://localhost:8080/"
        },
        "id": "nNT15MBYoTPr",
        "outputId": "13a0cfb1-bc3d-4227-ddb2-dfd548902319"
      },
      "execution_count": null,
      "outputs": [
        {
          "output_type": "execute_result",
          "data": {
            "text/plain": [
              "str"
            ]
          },
          "metadata": {},
          "execution_count": 40
        }
      ]
    },
    {
      "cell_type": "code",
      "source": [
        "D = \"!@##$%%^&*\""
      ],
      "metadata": {
        "id": "tLd6vqWXohs9"
      },
      "execution_count": null,
      "outputs": []
    },
    {
      "cell_type": "code",
      "source": [
        "type(D)"
      ],
      "metadata": {
        "colab": {
          "base_uri": "https://localhost:8080/"
        },
        "id": "iZLDrJNKolQz",
        "outputId": "2ad8e568-4ff5-443e-9700-20b36e683224"
      },
      "execution_count": null,
      "outputs": [
        {
          "output_type": "execute_result",
          "data": {
            "text/plain": [
              "str"
            ]
          },
          "metadata": {},
          "execution_count": 42
        }
      ]
    },
    {
      "cell_type": "code",
      "source": [
        "SEN = \" GUVI GEEK NETWORKS 1000 \""
      ],
      "metadata": {
        "id": "u7almGgPoo7u"
      },
      "execution_count": null,
      "outputs": []
    },
    {
      "cell_type": "code",
      "source": [
        "type(SEN)"
      ],
      "metadata": {
        "colab": {
          "base_uri": "https://localhost:8080/"
        },
        "id": "0v3K-djvouIN",
        "outputId": "80803eaf-c17e-4ed1-e2c2-e8dfdb528b7a"
      },
      "execution_count": null,
      "outputs": [
        {
          "output_type": "execute_result",
          "data": {
            "text/plain": [
              "str"
            ]
          },
          "metadata": {},
          "execution_count": 46
        }
      ]
    },
    {
      "cell_type": "code",
      "source": [
        "print(SEN)"
      ],
      "metadata": {
        "colab": {
          "base_uri": "https://localhost:8080/"
        },
        "id": "iHtWpjRBpD4c",
        "outputId": "cf43e814-050b-46c6-e397-b74cac736f06"
      },
      "execution_count": null,
      "outputs": [
        {
          "output_type": "stream",
          "name": "stdout",
          "text": [
            " GUVI GEEK NETWORKS 1000 \n"
          ]
        }
      ]
    },
    {
      "cell_type": "code",
      "source": [
        "# REAL EXAMPLES - STRING\n",
        "# NAME\n",
        "# ADDRESS\n",
        "# PASSWORD\n",
        "# EMAIL\n",
        "# MESSAGE\n",
        "# IP\n",
        "# USERNAME\n",
        "# PAN\n",
        "# IFSC CODE\n"
      ],
      "metadata": {
        "id": "-TVsZ64apKgI"
      },
      "execution_count": null,
      "outputs": []
    },
    {
      "cell_type": "code",
      "source": [
        "# BOOLEAN\n",
        "# B -- True ,ON,YES,PASS,IN,\n",
        "# B -- False, OFF,NO,FAIL,OUT"
      ],
      "metadata": {
        "id": "pD4foy5IpnvT"
      },
      "execution_count": null,
      "outputs": []
    },
    {
      "cell_type": "code",
      "source": [
        "5 == \"5\""
      ],
      "metadata": {
        "colab": {
          "base_uri": "https://localhost:8080/"
        },
        "id": "kanUhHPGqapG",
        "outputId": "eb3c27bb-7b54-4c72-8cc7-6baf198c594a"
      },
      "execution_count": null,
      "outputs": [
        {
          "output_type": "execute_result",
          "data": {
            "text/plain": [
              "False"
            ]
          },
          "metadata": {},
          "execution_count": 50
        }
      ]
    },
    {
      "cell_type": "code",
      "source": [
        "#COMPLEX\n",
        "# DATETIME"
      ],
      "metadata": {
        "id": "LhMUcbQmrEbO"
      },
      "execution_count": null,
      "outputs": []
    },
    {
      "cell_type": "code",
      "source": [
        "# ARITHEMATIC OPERATORS +,-,*,\n",
        "# DIVISION - / -- A/B -- DECIMAL VALUES\n",
        "# // - QUOTIENT\n",
        "# % - REMINDER"
      ],
      "metadata": {
        "id": "5WFYK5Tpryea"
      },
      "execution_count": null,
      "outputs": []
    },
    {
      "cell_type": "code",
      "source": [
        "a = 10\n",
        "b = 2"
      ],
      "metadata": {
        "id": "ZJgvCXR4ss91"
      },
      "execution_count": null,
      "outputs": []
    },
    {
      "cell_type": "code",
      "source": [
        "print(a+b)"
      ],
      "metadata": {
        "colab": {
          "base_uri": "https://localhost:8080/"
        },
        "id": "JPR5liIXswS3",
        "outputId": "0560fa01-665e-46af-b311-e8516aee3868"
      },
      "execution_count": null,
      "outputs": [
        {
          "output_type": "stream",
          "name": "stdout",
          "text": [
            "12\n"
          ]
        }
      ]
    },
    {
      "cell_type": "code",
      "source": [
        "print(a-b)"
      ],
      "metadata": {
        "colab": {
          "base_uri": "https://localhost:8080/"
        },
        "id": "QZj5tMufs0Au",
        "outputId": "eab70f46-a894-4df9-cfcb-8f8a8bfb5a3b"
      },
      "execution_count": null,
      "outputs": [
        {
          "output_type": "stream",
          "name": "stdout",
          "text": [
            "8\n"
          ]
        }
      ]
    },
    {
      "cell_type": "code",
      "source": [
        "print(a*b)"
      ],
      "metadata": {
        "colab": {
          "base_uri": "https://localhost:8080/"
        },
        "id": "3_umjJDFs4bO",
        "outputId": "1e9f040c-592c-4a49-ca57-ad9b2dcd875d"
      },
      "execution_count": null,
      "outputs": [
        {
          "output_type": "stream",
          "name": "stdout",
          "text": [
            "20\n"
          ]
        }
      ]
    },
    {
      "cell_type": "code",
      "source": [
        "print(a/b)"
      ],
      "metadata": {
        "colab": {
          "base_uri": "https://localhost:8080/"
        },
        "id": "zrdD46TYs76q",
        "outputId": "a86f30e6-3354-403c-c020-efeb6dd09ed5"
      },
      "execution_count": null,
      "outputs": [
        {
          "output_type": "stream",
          "name": "stdout",
          "text": [
            "5.0\n"
          ]
        }
      ]
    },
    {
      "cell_type": "code",
      "source": [
        "print(a//b)"
      ],
      "metadata": {
        "colab": {
          "base_uri": "https://localhost:8080/"
        },
        "id": "JnTydsCttF4m",
        "outputId": "49bfad3f-35a2-4df1-ef85-4441c150ef5d"
      },
      "execution_count": null,
      "outputs": [
        {
          "output_type": "stream",
          "name": "stdout",
          "text": [
            "5\n"
          ]
        }
      ]
    },
    {
      "cell_type": "code",
      "source": [
        "print(a%b)"
      ],
      "metadata": {
        "colab": {
          "base_uri": "https://localhost:8080/"
        },
        "id": "PRVYecLMtMDB",
        "outputId": "125b2545-4b0c-4cd8-8a1a-99e21aa037c7"
      },
      "execution_count": null,
      "outputs": [
        {
          "output_type": "stream",
          "name": "stdout",
          "text": [
            "0\n"
          ]
        }
      ]
    },
    {
      "cell_type": "code",
      "source": [
        "a = 10\n",
        "b = 3"
      ],
      "metadata": {
        "id": "mD7hTEbPttz-"
      },
      "execution_count": null,
      "outputs": []
    },
    {
      "cell_type": "code",
      "source": [
        "print(a%b)"
      ],
      "metadata": {
        "colab": {
          "base_uri": "https://localhost:8080/"
        },
        "id": "wcy2nkrNt2XS",
        "outputId": "a23167e5-56a8-41ea-8c84-5ed17f1cd615"
      },
      "execution_count": null,
      "outputs": [
        {
          "output_type": "stream",
          "name": "stdout",
          "text": [
            "1\n"
          ]
        }
      ]
    },
    {
      "cell_type": "code",
      "source": [
        "#input"
      ],
      "metadata": {
        "id": "K9oImoqGt7tK"
      },
      "execution_count": null,
      "outputs": []
    },
    {
      "cell_type": "code",
      "source": [
        "a = input()"
      ],
      "metadata": {
        "id": "su-a-N_wuC7s"
      },
      "execution_count": null,
      "outputs": []
    },
    {
      "cell_type": "code",
      "source": [
        "print(a)"
      ],
      "metadata": {
        "colab": {
          "base_uri": "https://localhost:8080/"
        },
        "id": "qjcHvDa_uVlB",
        "outputId": "6b5fc631-931b-4336-f547-4b9793c3c835"
      },
      "execution_count": null,
      "outputs": [
        {
          "output_type": "stream",
          "name": "stdout",
          "text": [
            "guvigeek\n"
          ]
        }
      ]
    },
    {
      "cell_type": "code",
      "source": [
        "type(a)"
      ],
      "metadata": {
        "colab": {
          "base_uri": "https://localhost:8080/"
        },
        "id": "4L1jUvHyuogC",
        "outputId": "616caf9d-2c3c-41fb-8148-e1a51f0ad538"
      },
      "execution_count": null,
      "outputs": [
        {
          "output_type": "execute_result",
          "data": {
            "text/plain": [
              "str"
            ]
          },
          "metadata": {},
          "execution_count": 63
        }
      ]
    },
    {
      "cell_type": "code",
      "source": [
        "b = input()#python input - user value - default - string"
      ],
      "metadata": {
        "colab": {
          "base_uri": "https://localhost:8080/"
        },
        "id": "iKk60LEOutm8",
        "outputId": "a231f216-ace5-49ac-8a12-cfb3fe4734c5"
      },
      "execution_count": null,
      "outputs": [
        {
          "name": "stdout",
          "output_type": "stream",
          "text": [
            "100\n"
          ]
        }
      ]
    },
    {
      "cell_type": "code",
      "source": [
        "type(b)"
      ],
      "metadata": {
        "colab": {
          "base_uri": "https://localhost:8080/"
        },
        "id": "XhL873Q8uvfS",
        "outputId": "c154aae6-eacb-4581-9bf7-0a50ad12d2d7"
      },
      "execution_count": null,
      "outputs": [
        {
          "output_type": "execute_result",
          "data": {
            "text/plain": [
              "str"
            ]
          },
          "metadata": {},
          "execution_count": 65
        }
      ]
    },
    {
      "cell_type": "code",
      "source": [
        "#typecasting"
      ],
      "metadata": {
        "id": "waEeVKUUvILI"
      },
      "execution_count": null,
      "outputs": []
    },
    {
      "cell_type": "code",
      "source": [
        "a = int(input())"
      ],
      "metadata": {
        "id": "s8AnnNS-vKnW"
      },
      "execution_count": null,
      "outputs": []
    },
    {
      "cell_type": "code",
      "source": [
        "type(a)"
      ],
      "metadata": {
        "colab": {
          "base_uri": "https://localhost:8080/"
        },
        "id": "sjvEm1xXvQ88",
        "outputId": "b90ec791-fd5e-4308-f3d8-cd83014572f1"
      },
      "execution_count": null,
      "outputs": [
        {
          "output_type": "execute_result",
          "data": {
            "text/plain": [
              "int"
            ]
          },
          "metadata": {},
          "execution_count": 67
        }
      ]
    },
    {
      "cell_type": "code",
      "source": [
        "a = 100\n",
        "b = 200"
      ],
      "metadata": {
        "id": "fcwB4kZEvt9o"
      },
      "execution_count": null,
      "outputs": []
    },
    {
      "cell_type": "code",
      "source": [
        "print(\"addition of two numbers is : \",a+b)"
      ],
      "metadata": {
        "colab": {
          "base_uri": "https://localhost:8080/"
        },
        "id": "hVQsd0XqviKr",
        "outputId": "2565ce47-874e-4342-f5ce-8445c713deda"
      },
      "execution_count": null,
      "outputs": [
        {
          "output_type": "stream",
          "name": "stdout",
          "text": [
            "addition of two numbers is :  300\n"
          ]
        }
      ]
    },
    {
      "cell_type": "code",
      "source": [
        "# task - bank denomination\n",
        "# user -- input -2000\n",
        "# 500 rupees notes is : 4.0\n",
        "# 100 rupees notes is :0\n",
        "#200 rupees notes is :0\n",
        "# 100 rupees notes is :0\n",
        "# 50 rupees notes is :0\n",
        "# 20 rupees notes is :0\n",
        "# 10 rupees notes is :0\n",
        "# 5 rupees notes is :0\n",
        "# 2 rupees notes is :0\n",
        "# 1 rupees notes is :0\n",
        "# number of notes should be  minimum\n",
        "# python -- naming"
      ],
      "metadata": {
        "id": "5RLPmzF8wMui"
      },
      "execution_count": null,
      "outputs": []
    },
    {
      "cell_type": "code",
      "source": [
        "a = int(input())\n"
      ],
      "metadata": {
        "id": "INJrGQxmxqoz"
      },
      "execution_count": null,
      "outputs": []
    }
  ]
}