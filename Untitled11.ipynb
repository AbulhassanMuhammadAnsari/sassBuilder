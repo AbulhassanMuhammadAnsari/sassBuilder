{
  "nbformat": 4,
  "nbformat_minor": 0,
  "metadata": {
    "colab": {
      "provenance": [],
      "include_colab_link": true
    },
    "kernelspec": {
      "name": "python3",
      "display_name": "Python 3"
    },
    "language_info": {
      "name": "python"
    }
  },
  "cells": [
    {
      "cell_type": "markdown",
      "metadata": {
        "id": "view-in-github",
        "colab_type": "text"
      },
      "source": [
        "<a href=\"https://colab.research.google.com/github/abulhassan-m/sassBuilder/blob/main/Untitled11.ipynb\" target=\"_parent\"><img src=\"https://colab.research.google.com/assets/colab-badge.svg\" alt=\"Open In Colab\"/></a>"
      ]
    },
    {
      "cell_type": "code",
      "execution_count": null,
      "metadata": {
        "id": "8SG9J2UCn_bh"
      },
      "outputs": [],
      "source": [
        "#dict\n",
        "# it is ordered\n",
        "# duplicate keys are not allowed\n",
        "# duplicate values allowed\n",
        "# dict values can accsess by keys"
      ]
    },
    {
      "cell_type": "code",
      "source": [
        "d = {\"name\":\"kirubha\",\"age\":25,\"salary\":50000}"
      ],
      "metadata": {
        "id": "qETTvveZuD1o"
      },
      "execution_count": null,
      "outputs": []
    },
    {
      "cell_type": "code",
      "source": [
        "print(d)"
      ],
      "metadata": {
        "colab": {
          "base_uri": "https://localhost:8080/"
        },
        "id": "TqGk3XWpudeC",
        "outputId": "81ba5776-1d11-4fc6-bb99-47d733abd6de"
      },
      "execution_count": null,
      "outputs": [
        {
          "output_type": "stream",
          "name": "stdout",
          "text": [
            "{'name': 'kirubha', 'age': 25, 'salary': 50000}\n"
          ]
        }
      ]
    },
    {
      "cell_type": "code",
      "source": [
        "type(d)"
      ],
      "metadata": {
        "colab": {
          "base_uri": "https://localhost:8080/"
        },
        "id": "XIFZg_lsue3B",
        "outputId": "377661a6-b1d4-46fe-cf03-0a9c8a6c81f6"
      },
      "execution_count": null,
      "outputs": [
        {
          "output_type": "execute_result",
          "data": {
            "text/plain": [
              "dict"
            ]
          },
          "metadata": {},
          "execution_count": 3
        }
      ]
    },
    {
      "cell_type": "code",
      "source": [
        "print(d[\"name\"])"
      ],
      "metadata": {
        "colab": {
          "base_uri": "https://localhost:8080/"
        },
        "id": "_aCVh6OUum8A",
        "outputId": "c7d0687f-f378-4816-ed8a-7bdda77dd35e"
      },
      "execution_count": null,
      "outputs": [
        {
          "output_type": "stream",
          "name": "stdout",
          "text": [
            "kirubha\n"
          ]
        }
      ]
    },
    {
      "cell_type": "code",
      "source": [
        "print(d[\"salary\"])"
      ],
      "metadata": {
        "colab": {
          "base_uri": "https://localhost:8080/"
        },
        "id": "ylf1Ni55vhaT",
        "outputId": "c3eb12f6-8b3d-4f4a-f415-c860a03ff62b"
      },
      "execution_count": null,
      "outputs": [
        {
          "output_type": "stream",
          "name": "stdout",
          "text": [
            "50000\n"
          ]
        }
      ]
    },
    {
      "cell_type": "code",
      "source": [
        "emp = {\"empid\":[1,2,3,4,5],\n",
        "       \"name\":[\"ashwin\",\"sakthi\",\"sangeetha\",\"kamala\",\"thiru\"],\n",
        "       \"age\":[25,30,35,40,35],\n",
        "       \"designation\":[\"GM\",\"ASS.M\",\"DEVELOPER\",\"DATASCIENTIST\",\"HR\"]}"
      ],
      "metadata": {
        "id": "YcghUiTbvws7"
      },
      "execution_count": null,
      "outputs": []
    },
    {
      "cell_type": "code",
      "source": [
        "print(emp)"
      ],
      "metadata": {
        "colab": {
          "base_uri": "https://localhost:8080/"
        },
        "id": "HhQYKjVOwqRP",
        "outputId": "1dcdcee3-d595-47f2-b57c-5d44b443ba1f"
      },
      "execution_count": null,
      "outputs": [
        {
          "output_type": "stream",
          "name": "stdout",
          "text": [
            "{'empid': [1, 2, 3, 4, 5], 'name': ['ashwin', 'sakthi', 'sangeetha', 'kamala', 'thiru'], 'age': [25, 30, 35, 40, 35], 'designation': ['GM', 'ASS.M', 'DEVELOPER', 'DATASCIENTIST', 'HR']}\n"
          ]
        }
      ]
    },
    {
      "cell_type": "code",
      "source": [
        "# list\n",
        "a = [\"guvi\",\"data science\",\"python\"]"
      ],
      "metadata": {
        "id": "_4neENhxwtfO"
      },
      "execution_count": null,
      "outputs": []
    },
    {
      "cell_type": "code",
      "source": [
        "a[1][5]"
      ],
      "metadata": {
        "colab": {
          "base_uri": "https://localhost:8080/",
          "height": 36
        },
        "id": "8UIw8AHfw5iX",
        "outputId": "9b981dc6-3a83-4d48-a668-a65f951118ef"
      },
      "execution_count": null,
      "outputs": [
        {
          "output_type": "execute_result",
          "data": {
            "text/plain": [
              "'s'"
            ],
            "application/vnd.google.colaboratory.intrinsic+json": {
              "type": "string"
            }
          },
          "metadata": {},
          "execution_count": 13
        }
      ]
    },
    {
      "cell_type": "code",
      "source": [
        "emp[\"empid\"]"
      ],
      "metadata": {
        "colab": {
          "base_uri": "https://localhost:8080/"
        },
        "id": "tV5R-RV6w7jR",
        "outputId": "ad204219-60e3-4161-86a0-0f1452abee38"
      },
      "execution_count": null,
      "outputs": [
        {
          "output_type": "execute_result",
          "data": {
            "text/plain": [
              "[1, 2, 3, 4, 5]"
            ]
          },
          "metadata": {},
          "execution_count": 14
        }
      ]
    },
    {
      "cell_type": "code",
      "source": [
        "id = int(input(\"enter the employee id : \"))\n",
        "pos = emp[\"empid\"].index(id)\n",
        "print(\"empid : \",emp[\"empid\"][pos])\n",
        "print(\"name : \",emp[\"name\"][pos])\n",
        "print(\"age : \",emp[\"age\"][pos])\n",
        "print(\"designation : \",emp[\"designation\"][pos])"
      ],
      "metadata": {
        "colab": {
          "base_uri": "https://localhost:8080/"
        },
        "id": "Kp3jBPAoyDyk",
        "outputId": "4bf6d13c-80df-486a-e667-7625a2e891a9"
      },
      "execution_count": null,
      "outputs": [
        {
          "output_type": "stream",
          "name": "stdout",
          "text": [
            "empid :  2\n",
            "name :  sakthi\n",
            "age :  30\n",
            "designation :  ASS.M\n"
          ]
        }
      ]
    },
    {
      "cell_type": "code",
      "source": [
        "id = int(input(\"enter the employee id : \"))"
      ],
      "metadata": {
        "id": "7XOyGhwFzAw-"
      },
      "execution_count": null,
      "outputs": []
    },
    {
      "cell_type": "code",
      "source": [
        "a = [1,2,3]"
      ],
      "metadata": {
        "id": "EKC-P1GY0Z6v"
      },
      "execution_count": null,
      "outputs": []
    },
    {
      "cell_type": "code",
      "source": [
        "a.index(3)"
      ],
      "metadata": {
        "colab": {
          "base_uri": "https://localhost:8080/"
        },
        "id": "V7chE3ZW0hUo",
        "outputId": "bc369e50-1492-47ea-a1d5-62e9e3a84199"
      },
      "execution_count": null,
      "outputs": [
        {
          "output_type": "execute_result",
          "data": {
            "text/plain": [
              "2"
            ]
          },
          "metadata": {},
          "execution_count": 25
        }
      ]
    },
    {
      "cell_type": "code",
      "source": [
        "pos = emp[\"empid\"].index(id)"
      ],
      "metadata": {
        "id": "WkbOJAf_zLSq"
      },
      "execution_count": null,
      "outputs": []
    },
    {
      "cell_type": "code",
      "source": [
        "print(pos)"
      ],
      "metadata": {
        "colab": {
          "base_uri": "https://localhost:8080/"
        },
        "id": "CUeo6LZRzmZt",
        "outputId": "800168e1-b196-4004-8653-20fd23d0a156"
      },
      "execution_count": null,
      "outputs": [
        {
          "output_type": "stream",
          "name": "stdout",
          "text": [
            "1\n"
          ]
        }
      ]
    },
    {
      "cell_type": "code",
      "source": [
        "id = int(input(\"enter the employee id : \"))\n",
        "pos = emp[\"empid\"].index(id)\n",
        "print(\"empid : \",emp[\"empid\"][pos])\n",
        "print(\"name : \",emp[\"name\"][pos])\n",
        "print(\"age : \",emp[\"age\"][pos])\n",
        "print(\"designation : \",emp[\"designation\"][pos])"
      ],
      "metadata": {
        "colab": {
          "base_uri": "https://localhost:8080/"
        },
        "id": "YnCXQk1gz-Ky",
        "outputId": "44eed243-8d90-4f8a-922d-7e616fcd3bf1"
      },
      "execution_count": null,
      "outputs": [
        {
          "output_type": "stream",
          "name": "stdout",
          "text": [
            "enter the employee id : 5\n",
            "empid :  5\n",
            "name :  thiru\n",
            "age :  35\n",
            "designation :  HR\n"
          ]
        }
      ]
    },
    {
      "cell_type": "code",
      "source": [
        "# conditional statements\n",
        "# if , elif,else\n",
        "#"
      ],
      "metadata": {
        "id": "ZTG2Wjri05yI"
      },
      "execution_count": null,
      "outputs": []
    },
    {
      "cell_type": "code",
      "source": [
        "cutoff = int(input(\"enter the cutoff : \"))"
      ],
      "metadata": {
        "colab": {
          "base_uri": "https://localhost:8080/"
        },
        "id": "R6Gq-T-X265c",
        "outputId": "30a5c48c-8f6e-4ccb-b1f7-5b0b992c49e2"
      },
      "execution_count": null,
      "outputs": [
        {
          "name": "stdout",
          "output_type": "stream",
          "text": [
            "enter the cutoff : 190\n"
          ]
        }
      ]
    },
    {
      "cell_type": "code",
      "source": [
        "cutoff = int(input(\"enter the cutoff : \"))\n",
        "\n",
        "if cutoff>=190:\n",
        "  print(\"ELGIBLE FOR MEDICAL ADMISSION\")\n",
        "\n",
        "else:\n",
        "  print(\"NOT ELGIBLE FOR MEDICAL ADMISSION\")"
      ],
      "metadata": {
        "colab": {
          "base_uri": "https://localhost:8080/"
        },
        "id": "gOhzgYkg3G3m",
        "outputId": "77eb3186-306b-492a-eb80-c56778cab4be"
      },
      "execution_count": null,
      "outputs": [
        {
          "output_type": "stream",
          "name": "stdout",
          "text": [
            "enter the cutoff : 190\n",
            "ELGIBLE FOR MEDICAL ADMISSION\n"
          ]
        }
      ]
    },
    {
      "cell_type": "code",
      "source": [
        "# 190 - 200 -MAD\n",
        "#175 -- 189 -- ENG AD\n",
        "# 150 -- 174  -- ELGIBLE FOR ARTS ADMISSION"
      ],
      "metadata": {
        "id": "MAEUA8SN4WwQ"
      },
      "execution_count": null,
      "outputs": []
    },
    {
      "cell_type": "code",
      "source": [
        "cutoff = int(input(\"enter the cutoff : \"))\n",
        "\n",
        "if cutoff>=190 and cutoff<=200:\n",
        "  print(\"ELGIBLE FOR MEDICAL ADMISSION\")\n",
        "\n",
        "elif cutoff>=175 and cutoff<=189:\n",
        "  print(\"ELGIBLE FOR ENGINEERING ADMISSION\")\n",
        "\n",
        "elif cutoff>=150 and cutoff<=174:\n",
        "  print(\"ELGIBLE FOR ARTS ADMISSION\")\n",
        "\n",
        "else:\n",
        "  print(\"INVALID CUTOFF\")\n",
        "\n",
        "\n",
        "\n",
        "\n"
      ],
      "metadata": {
        "colab": {
          "base_uri": "https://localhost:8080/"
        },
        "id": "u22tFdk24neH",
        "outputId": "8a0eccdc-7e24-4e2e-b8fe-42e9129e8dac"
      },
      "execution_count": null,
      "outputs": [
        {
          "output_type": "stream",
          "name": "stdout",
          "text": [
            "enter the cutoff : 140\n",
            "INVALID CUTOFF\n"
          ]
        }
      ]
    },
    {
      "cell_type": "code",
      "source": [
        "# LOOPS\n",
        "# IT IS CALLED AS CONTROL FLOW STATEMENT,IT ALLOWS TO EXECUTE A BLOCK OF CODES/RESULTS REPEDEDTLY , IT WILL USE ITERATION\n",
        "# ITERATION - THE PROCESS OF ACHIEVING A TARGET BY A SUCCESSIVE ATTEMPTS\n",
        "# for, while\n"
      ],
      "metadata": {
        "id": "sQQx6BT2694P"
      },
      "execution_count": null,
      "outputs": []
    },
    {
      "cell_type": "code",
      "source": [
        "A = [1,2,3,4,5,6,7,8,9,10]"
      ],
      "metadata": {
        "id": "uJzd-PG-97aD"
      },
      "execution_count": null,
      "outputs": []
    },
    {
      "cell_type": "code",
      "source": [
        "print(A)"
      ],
      "metadata": {
        "colab": {
          "base_uri": "https://localhost:8080/"
        },
        "id": "6pYZu63t_qtb",
        "outputId": "0b5faec6-442b-4af7-f063-526bc0b35cc4"
      },
      "execution_count": null,
      "outputs": [
        {
          "output_type": "stream",
          "name": "stdout",
          "text": [
            "[1, 2, 3, 4, 5, 6, 7, 8, 9, 10]\n"
          ]
        }
      ]
    },
    {
      "cell_type": "code",
      "source": [
        "# A 1 --- 10\n",
        "for i in A:#1\n",
        "  print(i)"
      ],
      "metadata": {
        "colab": {
          "base_uri": "https://localhost:8080/"
        },
        "id": "F4R4e26P-E_k",
        "outputId": "9b7f09f1-d397-439b-9150-5f280c0d4bef"
      },
      "execution_count": null,
      "outputs": [
        {
          "output_type": "stream",
          "name": "stdout",
          "text": [
            "1\n",
            "2\n",
            "3\n",
            "4\n",
            "5\n",
            "6\n",
            "7\n",
            "8\n",
            "9\n",
            "10\n"
          ]
        }
      ]
    },
    {
      "cell_type": "code",
      "source": [
        "A = [10,20,30,40,50]"
      ],
      "metadata": {
        "id": "_x6q-RTT_7JX"
      },
      "execution_count": null,
      "outputs": []
    },
    {
      "cell_type": "code",
      "source": [
        "# 30\n",
        "# 60\n",
        "# 90\n",
        "# 120\n",
        "# 150"
      ],
      "metadata": {
        "id": "XXjxGxMk__ji"
      },
      "execution_count": null,
      "outputs": []
    },
    {
      "cell_type": "code",
      "source": [
        "for j in A:\n",
        "  print(j*3)"
      ],
      "metadata": {
        "colab": {
          "base_uri": "https://localhost:8080/"
        },
        "id": "SgFC04orAGYo",
        "outputId": "f1a189ac-b3c8-4193-8ffa-8284d82fab1f"
      },
      "execution_count": null,
      "outputs": [
        {
          "output_type": "stream",
          "name": "stdout",
          "text": [
            "30\n",
            "60\n",
            "90\n",
            "120\n",
            "150\n"
          ]
        }
      ]
    },
    {
      "cell_type": "code",
      "source": [
        "# for loop with range function\n",
        "# for i in range(start,stop-1,skip):  ## range function\n",
        "# s -- 0\n",
        "# stop -- user defined\n",
        "# skip -- 1"
      ],
      "metadata": {
        "id": "BjgLzgp3AYcX"
      },
      "execution_count": null,
      "outputs": []
    },
    {
      "cell_type": "code",
      "source": [
        "# 5 -- 30 -- 5\n",
        "for i in range(5,31,5):#\n",
        "  print(i)"
      ],
      "metadata": {
        "colab": {
          "base_uri": "https://localhost:8080/"
        },
        "id": "-DVzZW9LA2Ca",
        "outputId": "00b95940-2459-440a-8540-f6e02f9a2ec0"
      },
      "execution_count": null,
      "outputs": [
        {
          "output_type": "stream",
          "name": "stdout",
          "text": [
            "5\n",
            "10\n",
            "15\n",
            "20\n",
            "25\n",
            "30\n"
          ]
        }
      ]
    },
    {
      "cell_type": "code",
      "source": [
        "# 2 20 2 4 6 8 10"
      ],
      "metadata": {
        "id": "Pz3We0U8BxyM"
      },
      "execution_count": null,
      "outputs": []
    },
    {
      "cell_type": "code",
      "source": [
        "for i in range(2,21,2):\n",
        "  print(i)"
      ],
      "metadata": {
        "colab": {
          "base_uri": "https://localhost:8080/"
        },
        "id": "lCTidIQtB7rv",
        "outputId": "3df7ab5e-6cf8-4ff4-b13b-ee26655ffc32"
      },
      "execution_count": null,
      "outputs": [
        {
          "output_type": "stream",
          "name": "stdout",
          "text": [
            "2\n",
            "4\n",
            "6\n",
            "8\n",
            "10\n",
            "12\n",
            "14\n",
            "16\n",
            "18\n",
            "20\n"
          ]
        }
      ]
    },
    {
      "cell_type": "code",
      "source": [
        "for i in range(1,11):\n",
        "   print(i)\n"
      ],
      "metadata": {
        "colab": {
          "base_uri": "https://localhost:8080/"
        },
        "id": "XOSqwjMwCLyO",
        "outputId": "39db94e9-5c20-424f-e6c9-06df5538f6db"
      },
      "execution_count": null,
      "outputs": [
        {
          "output_type": "stream",
          "name": "stdout",
          "text": [
            "1\n",
            "2\n",
            "3\n",
            "4\n",
            "5\n",
            "6\n",
            "7\n",
            "8\n",
            "9\n",
            "10\n"
          ]
        }
      ]
    },
    {
      "cell_type": "code",
      "source": [
        "# while loop"
      ],
      "metadata": {
        "id": "5zzhtgYRCkdV"
      },
      "execution_count": null,
      "outputs": []
    },
    {
      "cell_type": "code",
      "source": [
        "# 1 to 10"
      ],
      "metadata": {
        "id": "N9iNoOqnCo_w"
      },
      "execution_count": null,
      "outputs": []
    },
    {
      "cell_type": "code",
      "source": [
        "i = 1\n",
        "while i<=10:#1<=10 -- false -- it will come out of loop and stop\n",
        "  print(i) # 10\n",
        "  i = i+1# i = 11"
      ],
      "metadata": {
        "colab": {
          "base_uri": "https://localhost:8080/"
        },
        "id": "q8Tqec7CCxXm",
        "outputId": "dafae8f4-666b-4b7f-b74c-3f08ac61f785"
      },
      "execution_count": null,
      "outputs": [
        {
          "output_type": "stream",
          "name": "stdout",
          "text": [
            "1\n",
            "2\n",
            "3\n",
            "4\n",
            "5\n",
            "6\n",
            "7\n",
            "8\n",
            "9\n",
            "10\n"
          ]
        }
      ]
    },
    {
      "cell_type": "code",
      "source": [
        "# FUNCTION\n",
        "# A SET OF BLOCK OF CODES CREATED BY USER , IT WILL EXECUTE WHENEVER WE CALL"
      ],
      "metadata": {
        "id": "JAOGocULGiBl"
      },
      "execution_count": null,
      "outputs": []
    },
    {
      "cell_type": "code",
      "source": [
        "X = [1,2,3,4,5]"
      ],
      "metadata": {
        "id": "EofYpjWwHnOU"
      },
      "execution_count": null,
      "outputs": []
    },
    {
      "cell_type": "code",
      "source": [
        "def total(x):# def funcname(arguments):\n",
        "  t = 0\n",
        "  for i in X:\n",
        "    t = t+i\n",
        "  print(t)\n"
      ],
      "metadata": {
        "id": "4R9jmj1kHr3u"
      },
      "execution_count": null,
      "outputs": []
    },
    {
      "cell_type": "code",
      "source": [
        "total(X)"
      ],
      "metadata": {
        "colab": {
          "base_uri": "https://localhost:8080/"
        },
        "id": "CyzhTNhoIE9J",
        "outputId": "bff27962-d92d-44a2-fb61-05f9c666feb3"
      },
      "execution_count": null,
      "outputs": [
        {
          "output_type": "stream",
          "name": "stdout",
          "text": [
            "15\n"
          ]
        }
      ]
    }
  ]
}